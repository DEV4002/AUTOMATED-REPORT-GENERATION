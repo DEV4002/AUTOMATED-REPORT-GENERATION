{
 "cells": [
  {
   "cell_type": "code",
   "execution_count": 1,
   "id": "4543ea0b-e3b1-4f05-90cf-432d73f410a7",
   "metadata": {},
   "outputs": [
    {
     "ename": "NameError",
     "evalue": "name 'Spacer' is not defined",
     "output_type": "error",
     "traceback": [
      "\u001b[1;31m---------------------------------------------------------------------------\u001b[0m",
      "\u001b[1;31mNameError\u001b[0m                                 Traceback (most recent call last)",
      "Cell \u001b[1;32mIn[1], line 44\u001b[0m\n\u001b[0;32m     41\u001b[0m     doc\u001b[38;5;241m.\u001b[39mbuild(elements)\n\u001b[0;32m     43\u001b[0m \u001b[38;5;66;03m# Generate PDF report\u001b[39;00m\n\u001b[1;32m---> 44\u001b[0m generate_pdf_report(data, average_salary)\n",
      "Cell \u001b[1;32mIn[1], line 37\u001b[0m, in \u001b[0;36mgenerate_pdf_report\u001b[1;34m(data, average_salary)\u001b[0m\n\u001b[0;32m     34\u001b[0m elements\u001b[38;5;241m.\u001b[39mappend(table)\n\u001b[0;32m     36\u001b[0m \u001b[38;5;66;03m# Add Analysis Result\u001b[39;00m\n\u001b[1;32m---> 37\u001b[0m elements\u001b[38;5;241m.\u001b[39mappend(Spacer(\u001b[38;5;241m1\u001b[39m, \u001b[38;5;241m12\u001b[39m))\n\u001b[0;32m     38\u001b[0m elements\u001b[38;5;241m.\u001b[39mappend(Paragraph(\u001b[38;5;124mf\u001b[39m\u001b[38;5;124m\"\u001b[39m\u001b[38;5;124mAverage Salary: \u001b[39m\u001b[38;5;132;01m{\u001b[39;00maverage_salary\u001b[38;5;132;01m:\u001b[39;00m\u001b[38;5;124m.2f\u001b[39m\u001b[38;5;132;01m}\u001b[39;00m\u001b[38;5;124m\"\u001b[39m, style))\n\u001b[0;32m     40\u001b[0m \u001b[38;5;66;03m# Build PDF\u001b[39;00m\n",
      "\u001b[1;31mNameError\u001b[0m: name 'Spacer' is not defined"
     ]
    }
   ],
   "source": [
    "import pandas as pd\n",
    "from reportlab.lib.pagesizes import letter\n",
    "from reportlab.pdfgen import canvas\n",
    "from reportlab.lib import colors\n",
    "from reportlab.platypus import SimpleDocTemplate, Table, TableStyle\n",
    "\n",
    "# Read data from CSV file\n",
    "data = pd.read_csv(\"C:\\\\Users\\\\asus\\\\OneDrive\\\\Desktop\\\\ALLPROJECT\\\\CODTECH INTERNSHIP\\\\REPORT GENERATION\\\\BOOK.CSV\")\n",
    "\n",
    "# Data Analysis: Calculate average salary\n",
    "average_salary = data['Salary'].mean()\n",
    "\n",
    "# Create PDF report\n",
    "def generate_pdf_report(data, average_salary):\n",
    "    pdf_file = \"report.pdf\"\n",
    "    doc = SimpleDocTemplate(pdf_file, pagesize=letter)\n",
    "    elements = []\n",
    "\n",
    "    # Table Data\n",
    "    table_data = [data.columns.tolist()] + data.values.tolist()\n",
    "\n",
    "    # Create Table\n",
    "    table = Table(table_data)\n",
    "    table.setStyle(TableStyle([\n",
    "        ('BACKGROUND', (0, 0), (-1, 0), colors.grey),\n",
    "        ('TEXTCOLOR', (0, 0), (-1, 0), colors.whitesmoke),\n",
    "        ('ALIGN', (0, 0), (-1, -1), 'CENTER'),\n",
    "        ('FONTNAME', (0, 0), (-1, 0), 'Helvetica-Bold'),\n",
    "        ('BOTTOMPADDING', (0, 0), (-1, 0), 12),\n",
    "        ('BACKGROUND', (0, 1), (-1, -1), colors.beige),\n",
    "        ('GRID', (0, 0), (-1, -1), 1, colors.black),\n",
    "    ]))\n",
    "\n",
    "    elements.append(table)\n",
    "\n",
    "    # Add Analysis Result\n",
    "    elements.append(Spacer(1, 12))\n",
    "    elements.append(Paragraph(f\"Average Salary: {average_salary:.2f}\", style))\n",
    "\n",
    "    # Build PDF\n",
    "    doc.build(elements)\n",
    "\n",
    "# Generate PDF report\n",
    "generate_pdf_report(data, average_salary)\n"
   ]
  },
  {
   "cell_type": "code",
   "execution_count": 9,
   "id": "1c944095-eed8-44f1-ac6b-f2681f50ba4c",
   "metadata": {},
   "outputs": [],
   "source": [
    "import pandas as pd\n",
    "from reportlab.lib.pagesizes import letter\n",
    "from reportlab.pdfgen import canvas\n",
    "from reportlab.lib import colors\n",
    "from reportlab.platypus import SimpleDocTemplate, Table, TableStyle, Spacer, Paragraph\n",
    "from reportlab.lib.styles import getSampleStyleSheet\n",
    "\n",
    "# Read data from CSV file\n",
    "data = pd.read_csv(\"C:\\\\Users\\\\asus\\\\OneDrive\\\\Desktop\\\\ALLPROJECT\\\\CODTECH INTERNSHIP\\\\REPORT GENERATION\\\\BOOK.CSV\")\n",
    "\n",
    "# Data Analysis: Calculate average salary\n",
    "average_salary = data['Salary'].mean()\n",
    "\n",
    "# Create PDF report\n",
    "def generate_pdf_report(data, average_salary):\n",
    "    pdf_file = \"report.pdf\"\n",
    "    doc = SimpleDocTemplate(pdf_file, pagesize=letter)\n",
    "    elements = []\n",
    "\n",
    "    # Table Data\n",
    "    table_data = [data.columns.tolist()] + data.values.tolist()\n",
    "\n",
    "    # Create Table\n",
    "    table = Table(table_data)\n",
    "    table.setStyle(TableStyle([\n",
    "        ('BACKGROUND', (0, 0), (-1, 0), colors.grey),\n",
    "        ('TEXTCOLOR', (0, 0), (-1, 0), colors.whitesmoke),\n",
    "        ('ALIGN', (0, 0), (-1, -1), 'CENTER'),\n",
    "        ('FONTNAME', (0, 0), (-1, 0), 'Helvetica-Bold'),\n",
    "        ('BOTTOMPADDING', (0, 0), (-1, 0), 12),\n",
    "        ('BACKGROUND', (0, 1), (-1, -1), colors.beige),\n",
    "        ('GRID', (0, 0), (-1, -1), 1, colors.black),\n",
    "    ]))\n",
    "\n",
    "    elements.append(table)\n",
    "\n",
    "    # Add Analysis Result\n",
    "    elements.append(Spacer(1, 12))\n",
    "    \n",
    "    # Get sample style for Paragraph\n",
    "    styles = getSampleStyleSheet()\n",
    "    style = styles['Normal']\n",
    "    \n",
    "    elements.append(Paragraph(f\"Average Salary: {average_salary:.2f}\", style))\n",
    "\n",
    "    # Build PDF\n",
    "    doc.build(elements)\n",
    "\n",
    "# Generate PDF report\n",
    "generate_pdf_report(data, average_salary)\n"
   ]
  },
  {
   "cell_type": "code",
   "execution_count": 11,
   "id": "144b79d3-21d2-4293-ae25-4a1c15e24c91",
   "metadata": {},
   "outputs": [
    {
     "name": "stdout",
     "output_type": "stream",
     "text": [
      "C:\\Users\\asus\n"
     ]
    }
   ],
   "source": [
    "import os\n",
    "print(os.getcwd())"
   ]
  },
  {
   "cell_type": "code",
   "execution_count": null,
   "id": "eecb35a7-85eb-40e8-b8f7-e31e879a83b0",
   "metadata": {},
   "outputs": [],
   "source": []
  }
 ],
 "metadata": {
  "kernelspec": {
   "display_name": "Python 3 (ipykernel)",
   "language": "python",
   "name": "python3"
  },
  "language_info": {
   "codemirror_mode": {
    "name": "ipython",
    "version": 3
   },
   "file_extension": ".py",
   "mimetype": "text/x-python",
   "name": "python",
   "nbconvert_exporter": "python",
   "pygments_lexer": "ipython3",
   "version": "3.12.4"
  }
 },
 "nbformat": 4,
 "nbformat_minor": 5
}
